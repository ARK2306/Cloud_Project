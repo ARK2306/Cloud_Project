{
  "cells": [
    {
      "cell_type": "code",
      "execution_count": null,
      "metadata": {
        "colab": {
          "base_uri": "https://localhost:8080/"
        },
        "id": "lDobDk1IH6Bw",
        "outputId": "19bfd361-0abe-455b-fab0-2fe2d958fef5"
      },
      "outputs": [
        {
          "name": "stdout",
          "output_type": "stream",
          "text": [
            "Fri Nov 29 22:53:35 2024       \n",
            "+---------------------------------------------------------------------------------------+\n",
            "| NVIDIA-SMI 535.104.05             Driver Version: 535.104.05   CUDA Version: 12.2     |\n",
            "|-----------------------------------------+----------------------+----------------------+\n",
            "| GPU  Name                 Persistence-M | Bus-Id        Disp.A | Volatile Uncorr. ECC |\n",
            "| Fan  Temp   Perf          Pwr:Usage/Cap |         Memory-Usage | GPU-Util  Compute M. |\n",
            "|                                         |                      |               MIG M. |\n",
            "|=========================================+======================+======================|\n",
            "|   0  Tesla T4                       Off | 00000000:00:04.0 Off |                    0 |\n",
            "| N/A   49C    P8              10W /  70W |      0MiB / 15360MiB |      0%      Default |\n",
            "|                                         |                      |                  N/A |\n",
            "+-----------------------------------------+----------------------+----------------------+\n",
            "                                                                                         \n",
            "+---------------------------------------------------------------------------------------+\n",
            "| Processes:                                                                            |\n",
            "|  GPU   GI   CI        PID   Type   Process name                            GPU Memory |\n",
            "|        ID   ID                                                             Usage      |\n",
            "|=======================================================================================|\n",
            "|  No running processes found                                                           |\n",
            "+---------------------------------------------------------------------------------------+\n"
          ]
        }
      ],
      "source": [
        "!nvidia-smi\n"
      ]
    },
    {
      "cell_type": "code",
      "execution_count": 1,
      "metadata": {
        "colab": {
          "base_uri": "https://localhost:8080/"
        },
        "id": "tTUY5v11N7bG",
        "outputId": "f6b130bb-f029-4091-8852-4eb944b7b379",
        "collapsed": true
      },
      "outputs": [
        {
          "output_type": "stream",
          "name": "stdout",
          "text": [
            "Preprocessed data saved to PEMS-BAY-preprocessed.csv\n",
            "Preprocessed X data saved to PEMS-BAY-preprocessed_x.csv\n"
          ]
        },
        {
          "output_type": "stream",
          "name": "stderr",
          "text": [
            "/usr/local/lib/python3.10/dist-packages/keras/src/layers/rnn/rnn.py:204: UserWarning: Do not pass an `input_shape`/`input_dim` argument to a layer. When using Sequential models, prefer using an `Input(shape)` object as the first layer in the model instead.\n",
            "  super().__init__(**kwargs)\n"
          ]
        },
        {
          "output_type": "stream",
          "name": "stdout",
          "text": [
            "Epoch 1/10\n",
            "\u001b[1m211722/211722\u001b[0m \u001b[32m━━━━━━━━━━━━━━━━━━━━\u001b[0m\u001b[37m\u001b[0m \u001b[1m517s\u001b[0m 2ms/step - loss: 0.9534 - val_loss: 0.9349\n",
            "Epoch 2/10\n",
            "\u001b[1m211722/211722\u001b[0m \u001b[32m━━━━━━━━━━━━━━━━━━━━\u001b[0m\u001b[37m\u001b[0m \u001b[1m516s\u001b[0m 2ms/step - loss: 0.9338 - val_loss: 0.9321\n",
            "Epoch 3/10\n",
            "\u001b[1m211722/211722\u001b[0m \u001b[32m━━━━━━━━━━━━━━━━━━━━\u001b[0m\u001b[37m\u001b[0m \u001b[1m558s\u001b[0m 2ms/step - loss: 0.9311 - val_loss: 0.9302\n",
            "Epoch 4/10\n",
            "\u001b[1m211722/211722\u001b[0m \u001b[32m━━━━━━━━━━━━━━━━━━━━\u001b[0m\u001b[37m\u001b[0m \u001b[1m552s\u001b[0m 2ms/step - loss: 0.9274 - val_loss: 0.9296\n",
            "Epoch 5/10\n",
            "\u001b[1m211722/211722\u001b[0m \u001b[32m━━━━━━━━━━━━━━━━━━━━\u001b[0m\u001b[37m\u001b[0m \u001b[1m529s\u001b[0m 2ms/step - loss: 0.9272 - val_loss: 0.9284\n",
            "Epoch 6/10\n",
            "\u001b[1m211722/211722\u001b[0m \u001b[32m━━━━━━━━━━━━━━━━━━━━\u001b[0m\u001b[37m\u001b[0m \u001b[1m523s\u001b[0m 2ms/step - loss: 0.9261 - val_loss: 0.9275\n",
            "Epoch 7/10\n",
            "\u001b[1m211722/211722\u001b[0m \u001b[32m━━━━━━━━━━━━━━━━━━━━\u001b[0m\u001b[37m\u001b[0m \u001b[1m565s\u001b[0m 2ms/step - loss: 0.9258 - val_loss: 0.9277\n",
            "Epoch 8/10\n",
            "\u001b[1m211722/211722\u001b[0m \u001b[32m━━━━━━━━━━━━━━━━━━━━\u001b[0m\u001b[37m\u001b[0m \u001b[1m559s\u001b[0m 2ms/step - loss: 0.9271 - val_loss: 0.9257\n",
            "Epoch 9/10\n",
            "\u001b[1m211722/211722\u001b[0m \u001b[32m━━━━━━━━━━━━━━━━━━━━\u001b[0m\u001b[37m\u001b[0m \u001b[1m560s\u001b[0m 2ms/step - loss: 0.9268 - val_loss: 0.9261\n",
            "Epoch 10/10\n",
            "\u001b[1m211722/211722\u001b[0m \u001b[32m━━━━━━━━━━━━━━━━━━━━\u001b[0m\u001b[37m\u001b[0m \u001b[1m553s\u001b[0m 2ms/step - loss: 0.9260 - val_loss: 0.9254\n",
            "\u001b[1m1/1\u001b[0m \u001b[32m━━━━━━━━━━━━━━━━━━━━\u001b[0m\u001b[37m\u001b[0m \u001b[1m0s\u001b[0m 172ms/step\n",
            "Postulated test data:\n",
            "[1485651600, 101, 2, 4, 77000.0, 4681, 396.483, 37.403153, -122.047463, 0.42, 4]\n",
            "\n",
            "Prediction:\n",
            "61.590538\n"
          ]
        }
      ],
      "source": [
        "import pandas as pd\n",
        "import numpy as np\n",
        "from sklearn.model_selection import train_test_split\n",
        "from sklearn.preprocessing import StandardScaler\n",
        "from tensorflow.keras.models import Sequential\n",
        "from tensorflow.keras.layers import LSTM, Dense\n",
        "from tensorflow.keras.optimizers import Adam\n",
        "from datetime import datetime\n",
        "import pickle\n",
        "\n",
        "# Load the datasets\n",
        "pems_bay = pd.read_csv('/content/drive/MyDrive/CS5287FP/PEMS-BAY/PEMS-BAY.csv')\n",
        "pems_bay_meta = pd.read_csv('/content/drive/MyDrive/CS5287FP/PEMS-BAY/PEMS-BAY-META.csv')\n",
        "\n",
        "def preprocess_data(row, meta_row):\n",
        "    features = [int(datetime.strptime(row['Unnamed: 0'], '%Y-%m-%d %H:%M:%S').timestamp())]\n",
        "    for col in ['Fwy', 'Dir', 'District', 'City', 'State_PM', 'Abs_PM', 'Latitude', 'Longitude', 'Length', 'Lanes']:\n",
        "        value = meta_row[col]\n",
        "        if col == 'Dir':\n",
        "            value = {'N': 4, 'E': 1, 'S': 2, 'W': 3}.get(value, 0)\n",
        "        elif pd.isna(value):\n",
        "            value = 0\n",
        "        elif isinstance(value, str):\n",
        "            value = ''.join(filter(str.isdigit, value))\n",
        "            value = float(value) if value and '.' in value else int(value) if value else 0\n",
        "        features.append(value)\n",
        "    return features\n",
        "\n",
        "X = []\n",
        "y = []\n",
        "\n",
        "for _, sensor_data in pems_bay.iloc[:, 1:].items():\n",
        "    sensor_id = int(sensor_data.name)\n",
        "    meta_row = pems_bay_meta[pems_bay_meta['sensor_id'] == sensor_id]\n",
        "    if not meta_row.empty:\n",
        "        meta_row = meta_row.iloc[0]\n",
        "        for timestamp, speed in zip(pems_bay['Unnamed: 0'], sensor_data):\n",
        "            X.append(preprocess_data(pd.Series({'Unnamed: 0': timestamp}), meta_row))\n",
        "            y.append(speed)\n",
        "\n",
        "X = np.array(X)\n",
        "y = np.array(y)\n",
        "#\n",
        "df_y = pd.DataFrame(y, columns=['Speed'])\n",
        "\n",
        "# Save the DataFrame to a CSV file\n",
        "df_y.to_csv('/content/drive/MyDrive/CS5287FP/PEMS-BAY/PEMS-BAY-preprocessed_y.csv', index=False)\n",
        "print(\"Preprocessed data saved to PEMS-BAY-preprocessed.csv\")\n",
        "#\n",
        "column_names = ['Timestamp', 'Fwy', 'Dir', 'District', 'City', 'State_PM', 'Abs_PM', 'Latitude', 'Longitude', 'Length', 'Lanes']\n",
        "# Create a DataFrame from X\n",
        "df_x = pd.DataFrame(X, columns=column_names)\n",
        "# Save the DataFrame to a CSV file\n",
        "df_x.to_csv('/content/drive/MyDrive/CS5287FP/PEMS-BAY/PEMS-BAY-preprocessed_x.csv', index=False)\n",
        "\n",
        "print(\"Preprocessed X data saved to PEMS-BAY-preprocessed_x.csv\")\n",
        "##\n",
        "X_train, X_test, y_train, y_test = train_test_split(X, y, test_size=0.5, random_state=42)\n",
        "\n",
        "scaler_X = StandardScaler()\n",
        "X_train_scaled = scaler_X.fit_transform(X_train)\n",
        "X_test_scaled = scaler_X.transform(X_test)\n",
        "\n",
        "scaler_y = StandardScaler()\n",
        "y_train_scaled = scaler_y.fit_transform(y_train.reshape(-1, 1))\n",
        "y_test_scaled = scaler_y.transform(y_test.reshape(-1, 1))\n",
        "\n",
        "X_train_reshaped = X_train_scaled.reshape((X_train_scaled.shape[0], 1, X_train_scaled.shape[1]))\n",
        "X_test_reshaped = X_test_scaled.reshape((X_test_scaled.shape[0], 1, X_test_scaled.shape[1]))\n",
        "\n",
        "model = Sequential([\n",
        "    LSTM(50, activation='relu', input_shape=(1, X_train_reshaped.shape[2])),\n",
        "    Dense(1)\n",
        "])\n",
        "\n",
        "model.compile(optimizer=Adam(learning_rate=0.001), loss='mse')\n",
        "\n",
        "history = model.fit(X_train_reshaped, y_train_scaled, epochs=100, batch_size=32, validation_split=0.2, verbose=1)\n",
        "\n",
        "model_path = \"/content/drive/MyDrive/CS5287FP/lstm_team21.h5\"\n",
        "model.save(model_path)\n",
        "with open('/content/drive/MyDrive/CS5287FP/history.pkl', 'wb') as file:\n",
        "    pickle.dump(history.history, file)\n",
        "\n",
        "\n",
        "# Generate postulated test data\n",
        "random_row = pems_bay.iloc[np.random.randint(len(pems_bay))]\n",
        "random_sensor_id = int(random_row.index[np.random.randint(1, len(random_row))])\n",
        "random_meta_row = pems_bay_meta[pems_bay_meta['sensor_id'] == random_sensor_id].iloc[0]\n",
        "\n",
        "postulated_test = preprocess_data(random_row, random_meta_row)\n",
        "postulated_test_scaled = scaler_X.transform(np.array(postulated_test).reshape(1, -1))\n",
        "postulated_test_reshaped = postulated_test_scaled.reshape((1, 1, postulated_test_scaled.shape[1]))\n",
        "\n",
        "prediction_scaled = model.predict(postulated_test_reshaped)\n",
        "prediction = scaler_y.inverse_transform(prediction_scaled)\n",
        "\n",
        "print(\"Postulated test data:\")\n",
        "print(postulated_test)\n",
        "print(\"\\nPrediction:\")\n",
        "print(prediction[0][0])"
      ]
    },
    {
      "cell_type": "code",
      "source": [
        "type(pems_bay.columns)"
      ],
      "metadata": {
        "colab": {
          "base_uri": "https://localhost:8080/"
        },
        "id": "fg20CEo_zytp",
        "outputId": "14eec03d-99dc-429a-9a29-271388b49123"
      },
      "execution_count": null,
      "outputs": [
        {
          "output_type": "execute_result",
          "data": {
            "text/plain": [
              "pandas.core.indexes.base.Index"
            ]
          },
          "metadata": {},
          "execution_count": 13
        }
      ]
    },
    {
      "cell_type": "code",
      "source": [],
      "metadata": {
        "id": "eRMcrtDv1L29"
      },
      "execution_count": null,
      "outputs": []
    }
  ],
  "metadata": {
    "colab": {
      "provenance": []
    },
    "kernelspec": {
      "display_name": "Python 3",
      "name": "python3"
    },
    "language_info": {
      "name": "python"
    }
  },
  "nbformat": 4,
  "nbformat_minor": 0
}